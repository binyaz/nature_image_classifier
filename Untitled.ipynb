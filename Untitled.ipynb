{
 "cells": [
  {
   "cell_type": "code",
   "execution_count": null,
   "metadata": {},
   "outputs": [],
   "source": [
    "import matplotlib.pyplot as plt\n",
    "import numpy as np\n",
    "import tensorflow as tf\n",
    "import os, shutil\n",
    "from keras import models, layers, optimizers\n",
    "from sklearn.metrics import confusion_matrix, f1_score\n",
    "np.random.seed(123)\n",
    "from keras.models import load_model\n",
    "from keras.preprocessing.image import ImageDataGenerator, array_to_img, img_to_array, load_img"
   ]
  },
  {
   "cell_type": "code",
   "execution_count": null,
   "metadata": {},
   "outputs": [],
   "source": [
    "train = ImageDataGenerator(rescale = 1/255).flow_from_directory(\n",
    "    '111880_269359_bundle_archive/seg_train/seg_train',\n",
    "    target_size = (150, 150),\n",
    "    classes = ['buildings', 'forest', 'glacier', 'mountain', 'sea', 'street'])"
   ]
  },
  {
   "cell_type": "code",
   "execution_count": null,
   "metadata": {},
   "outputs": [],
   "source": [
    "test = ImageDataGenerator(rescale = 1/255).flow_from_directory(\n",
    "    '111880_269359_bundle_archive/seg_test/seg_test',\n",
    "    target_size = (150, 150),\n",
    "    classes = ['buildings', 'forest', 'glacier', 'mountain', 'sea', 'street'])"
   ]
  },
  {
   "cell_type": "code",
   "execution_count": null,
   "metadata": {},
   "outputs": [],
   "source": [
    "model = models.Sequential([\n",
    "    layers.Conv2D(128, 3, activation = 'relu', input_shape = (150, 150, 3)),\n",
    "    layers.MaxPool2D((2,2)),\n",
    "    layers.Conv2D(64, 3, activation = 'relu'),\n",
    "    layers.MaxPool2D((2,2)),\n",
    "    layers.Conv2D(32, 3, activation = 'relu'),\n",
    "    layers.MaxPool2D((2,2)),\n",
    "    layers.Conv2D(16, 3, activation = 'relu'),\n",
    "    layers.MaxPool2D((2,2)),\n",
    "    layers.Flatten(),\n",
    "    \n",
    "    layers.Dense(512, activation = 'relu'),\n",
    "    layers.Dense(6, activation='sigmoid')\n",
    "])"
   ]
  },
  {
   "cell_type": "code",
   "execution_count": null,
   "metadata": {},
   "outputs": [],
   "source": [
    "model.summary()"
   ]
  },
  {
   "cell_type": "code",
   "execution_count": null,
   "metadata": {},
   "outputs": [],
   "source": [
    "model.compile(loss = 'categorical_crossentropy',\n",
    "             optimizer = optimizers.RMSprop(lr=1e-4),\n",
    "             metrics = ['acc'])"
   ]
  },
  {
   "cell_type": "code",
   "execution_count": null,
   "metadata": {},
   "outputs": [],
   "source": [
    "model.fit(train,\n",
    "         epochs = 30,\n",
    "         validation_data=test,\n",
    "         workers=11)\n",
    "# loss: 0.3364 - acc: 0.8808 - val_loss: 0.2681 - val_acc: 0.8257"
   ]
  },
  {
   "cell_type": "code",
   "execution_count": null,
   "metadata": {},
   "outputs": [],
   "source": []
  }
 ],
 "metadata": {
  "kernelspec": {
   "display_name": "Python 3",
   "language": "python",
   "name": "python3"
  },
  "language_info": {
   "codemirror_mode": {
    "name": "ipython",
    "version": 3
   },
   "file_extension": ".py",
   "mimetype": "text/x-python",
   "name": "python",
   "nbconvert_exporter": "python",
   "pygments_lexer": "ipython3",
   "version": "3.7.6"
  }
 },
 "nbformat": 4,
 "nbformat_minor": 4
}
