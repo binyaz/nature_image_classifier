{
 "cells": [
  {
   "cell_type": "code",
   "execution_count": 20,
   "metadata": {},
   "outputs": [],
   "source": [
    "import pandas as pd\n",
    "import numpy as np\n",
    "import matplotlib.pyplot as plt\n",
    "import seaborn as sns\n",
    "import os\n",
    "import tensorflow as ts\n",
    "from PIL import Image\n",
    "from keras.preprocessing.image import load_img\n",
    "%matplotlib inline"
   ]
  },
  {
   "cell_type": "code",
   "execution_count": 2,
   "metadata": {},
   "outputs": [],
   "source": [
    "train_path = '111880_269359_bundle_archive/seg_train/seg_train'\n",
    "test_path = '111880_269359_bundle_archive/seg_test/seg_test'\n",
    "val_path = '111880_269359_bundle_archive/seg_pred/seg_pred'\n",
    "directories = [train_path, test_path, val_path]"
   ]
  },
  {
   "cell_type": "code",
   "execution_count": 3,
   "metadata": {},
   "outputs": [],
   "source": [
    "classes = ['buildings', 'forest', 'glacier', 'mountain', 'sea', 'street']"
   ]
  },
  {
   "cell_type": "code",
   "execution_count": 4,
   "metadata": {},
   "outputs": [],
   "source": [
    "buildings = []\n",
    "forest = []\n",
    "glacier = []\n",
    "mountain = []\n",
    "sea = []\n",
    "street = []\n",
    "for path in directories:\n",
    "    for class_ in classes:\n",
    "        for img in os.listdir(path+'/'+class_):\n",
    "            if class_ == 'buildings':\n",
    "                buildings.append(img)\n",
    "            elif class_ == 'forest':\n",
    "                forest.append(img)\n",
    "            elif class_ == 'glacier':\n",
    "                glacier.append(img)\n",
    "            elif class_ == 'mountain':\n",
    "                mountain.append(img)\n",
    "            elif class_ == 'sea':\n",
    "                sea.append(img)\n",
    "            else:\n",
    "                street.append(img)\n",
    "        "
   ]
  },
  {
   "cell_type": "code",
   "execution_count": 5,
   "metadata": {},
   "outputs": [
    {
     "data": {
      "text/plain": [
       "<matplotlib.axes._subplots.AxesSubplot at 0x7fc507e8df50>"
      ]
     },
     "execution_count": 5,
     "metadata": {},
     "output_type": "execute_result"
    },
    {
     "data": {
      "image/png": "[encoded data removed]",
      "text/plain": [
       "<Figure size 432x288 with 1 Axes>"
      ]
     },
     "metadata": {
      "needs_background": "light"
     },
     "output_type": "display_data"
    }
   ],
   "source": [
    "sns.barplot(['buildings', 'forest', 'glacier', 'mountain', 'sea', 'street'],[len(buildings), len(forest), len(glacier), len(mountain), len(sea), len(street)])"
   ]
  },
  {
   "cell_type": "code",
   "execution_count": 19,
   "metadata": {},
   "outputs": [],
   "source": [
    "building_img = load_img('111880_269359_bundle_archive/seg_train/seg_train/buildings/0.jpg', target_size=(256, 256))\n",
    "forest_img = load_img('111880_269359_bundle_archive/seg_train/seg_train/forest/8.jpg', target_size=(256, 256))\n",
    "glacier_img = load_img('111880_269359_bundle_archive/seg_train/seg_train/glacier/10.jpg', target_size=(256, 256))\n",
    "mountain_img = load_img('111880_269359_bundle_archive/seg_train/seg_train/mountain/16.jpg', target_size=(256, 256))\n",
    "sea_img = load_img('111880_269359_bundle_archive/seg_train/seg_train/sea/1.jpg', target_size=(256, 256))\n",
    "street_img = load_img('111880_269359_bundle_archive/seg_train/seg_train/street/2.jpg', target_size=(256, 256))"
   ]
  },
  {
   "cell_type": "code",
   "execution_count": null,
   "metadata": {},
   "outputs": [],
   "source": []
  }
 ],
 "metadata": {
  "kernelspec": {
   "display_name": "Python 3",
   "language": "python",
   "name": "python3"
  },
  "language_info": {
   "codemirror_mode": {
    "name": "ipython",
    "version": 3
   },
   "file_extension": ".py",
   "mimetype": "text/x-python",
   "name": "python",
   "nbconvert_exporter": "python",
   "pygments_lexer": "ipython3",
   "version": "3.7.6"
  }
 },
 "nbformat": 4,
 "nbformat_minor": 4
}
